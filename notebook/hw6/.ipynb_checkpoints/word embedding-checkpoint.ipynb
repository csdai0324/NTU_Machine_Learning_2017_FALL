{
 "cells": [
  {
   "cell_type": "code",
   "execution_count": null,
   "metadata": {},
   "outputs": [],
   "source": [
    "import json\n",
    "import gensim\n",
    "import jieba\n",
    "import matplotlib.pyplot as plt\n",
    "import matplotlib as  mpl\n",
    "from matplotlib.font_manager import FontManager, FontProperties  \n",
    "from gensim.models import word2vec\n",
    "from sklearn.manifold import TSNE\n",
    "from adjustText import adjust_text"
   ]
  },
  {
   "cell_type": "code",
   "execution_count": null,
   "metadata": {},
   "outputs": [],
   "source": [
    "jieba.set_dictionary('./dict.txt.big')"
   ]
  },
  {
   "cell_type": "code",
   "execution_count": null,
   "metadata": {},
   "outputs": [],
   "source": [
    "all_sents = []\n",
    "with open('./all_sents.txt', 'r') as data:\n",
    "    for line in data:\n",
    "        sent = line.strip()\n",
    "        all_sents.append(sent)"
   ]
  },
  {
   "cell_type": "code",
   "execution_count": null,
   "metadata": {},
   "outputs": [],
   "source": [
    "all_sents_cut = []\n",
    "for sent in all_sents:\n",
    "    s = []\n",
    "    words = jieba.cut(sent, cut_all=False)\n",
    "    for word in words:\n",
    "        s.append(word.strip())\n",
    "    all_sents_cut.append(s)"
   ]
  },
  {
   "cell_type": "code",
   "execution_count": null,
   "metadata": {},
   "outputs": [],
   "source": [
    "model = word2vec.Word2Vec(all_sents_cut, size=256, min_count=15, window=5)\n",
    "model.save('model')"
   ]
  },
  {
   "cell_type": "code",
   "execution_count": null,
   "metadata": {},
   "outputs": [],
   "source": [
    "model = word2vec.Word2Vec.load('./model')\n",
    "print(model.most_similar('吃飯'))\n",
    "print(model.most_similar('你'))\n",
    "print(model.most_similar('我'))\n",
    "print(model.similarity('吃飯', '你'))\n",
    "print(model.similarity('吃飯', '聊天'))"
   ]
  },
  {
   "cell_type": "code",
   "execution_count": null,
   "metadata": {},
   "outputs": [],
   "source": [
    "vocab = list(model.wv.vocab)\n",
    "X = model[vocab]\n",
    "tsne = TSNE(n_components=2)\n",
    "X_tsne = tsne.fit_transform(X)"
   ]
  },
  {
   "cell_type": "code",
   "execution_count": null,
   "metadata": {},
   "outputs": [],
   "source": [
    "texts = ['聊天', '吃飯', '你', '我']\n",
    "indexes = []\n",
    "for text in texts:\n",
    "    indexes.append(vocab.index(text))\n",
    "Xs = []\n",
    "Ys = []\n",
    "for index in indexes:\n",
    "    x, y = X_tsne[index]\n",
    "    Xs.append(x)\n",
    "    Ys.append(y)"
   ]
  },
  {
   "cell_type": "code",
   "execution_count": null,
   "metadata": {},
   "outputs": [],
   "source": [
    "import matplotlib  \n",
    "matplotlib.matplotlib_fname()\n",
    "plt.rcParams['font.sans-serif'] = ['SimHei']  # 用来正常显示中文标签\n",
    "plt.rcParams['axes.unicode_minus'] = False\n",
    "\n",
    "def plot(Xs, Ys, Texts):\n",
    "    plt.plot(Xs, Ys, 'o')\n",
    "    texts = [plt.text(X, Y, Text) for X, Y, Text in zip(Xs, Ys, Texts)]\n",
    "    plt.figure(figsize=(800, 600))\n",
    "    plt.title(str(adjust_text(texts, Xs, Ys, arrowprops=dict(arrowstyle='->', color='b'))))"
   ]
  },
  {
   "cell_type": "code",
   "execution_count": null,
   "metadata": {},
   "outputs": [],
   "source": [
    "texts = ['聊天', '吃飯', '你', '我']\n",
    "indexes = []\n",
    "for text in texts:\n",
    "    indexes.append(vocab.index(text))\n",
    "Xs = []\n",
    "Ys = []\n",
    "for index in indexes:\n",
    "    x, y = X_tsne[index]\n",
    "    Xs.append(x)\n",
    "    Ys.append(y)\n",
    "plot(Xs, Ys, texts)"
   ]
  },
  {
   "cell_type": "code",
   "execution_count": null,
   "metadata": {},
   "outputs": [],
   "source": []
  }
 ],
 "metadata": {
  "kernelspec": {
   "display_name": "Python 3",
   "language": "python",
   "name": "python3"
  },
  "language_info": {
   "codemirror_mode": {
    "name": "ipython",
    "version": 3
   },
   "file_extension": ".py",
   "mimetype": "text/x-python",
   "name": "python",
   "nbconvert_exporter": "python",
   "pygments_lexer": "ipython3",
   "version": "3.5.2"
  }
 },
 "nbformat": 4,
 "nbformat_minor": 2
}
