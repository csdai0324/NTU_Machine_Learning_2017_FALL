{
 "cells": [
  {
   "cell_type": "code",
   "execution_count": 2,
   "metadata": {},
   "outputs": [],
   "source": [
    "import json\n",
    "import gensim\n",
    "import jieba\n",
    "import matplotlib.pyplot as plt\n",
    "import matplotlib as  mpl\n",
    "from matplotlib.font_manager import FontManager, FontProperties  \n",
    "from gensim.models import word2vec\n",
    "from sklearn.manifold import TSNE\n",
    "from adjustText import adjust_text"
   ]
  },
  {
   "cell_type": "code",
   "execution_count": 3,
   "metadata": {},
   "outputs": [],
   "source": [
    "jieba.set_dictionary('./dict.txt.big')"
   ]
  },
  {
   "cell_type": "code",
   "execution_count": 5,
   "metadata": {},
   "outputs": [],
   "source": [
    "all_sents = []\n",
    "with open('./all_sents.txt', 'r') as data:\n",
    "    for line in data:\n",
    "        sent = line.strip()\n",
    "        all_sents.append(sent)"
   ]
  },
  {
   "cell_type": "code",
   "execution_count": 6,
   "metadata": {},
   "outputs": [
    {
     "name": "stderr",
     "output_type": "stream",
     "text": [
      "Building prefix dict from /Users/daichangxin/ML2017FALL/notebook/hw6/dict.txt.big ...\n",
      "Loading model from cache /var/folders/vg/zvxkx4451m17gy4_4q139fqm0000gn/T/jieba.u055519d5be2d7563fc05a543ac3054cc.cache\n",
      "Loading model cost 1.580 seconds.\n",
      "Prefix dict has been built succesfully.\n"
     ]
    }
   ],
   "source": [
    "all_sents_cut = []\n",
    "for sent in all_sents:\n",
    "    s = []\n",
    "    words = jieba.cut(sent, cut_all=False)\n",
    "    for word in words:\n",
    "        s.append(word.strip())\n",
    "    all_sents_cut.append(s)"
   ]
  },
  {
   "cell_type": "code",
   "execution_count": 7,
   "metadata": {},
   "outputs": [],
   "source": [
    "model = word2vec.Word2Vec(all_sents_cut, size=256, min_count=15, window=5)\n",
    "model.save('model')"
   ]
  },
  {
   "cell_type": "code",
   "execution_count": 4,
   "metadata": {},
   "outputs": [
    {
     "name": "stdout",
     "output_type": "stream",
     "text": [
      "[('玩', 0.709960401058197), ('聊天', 0.7077867984771729), ('喝酒', 0.7007545232772827), ('喝茶', 0.6974890828132629), ('喝咖啡', 0.6827110052108765), ('約會', 0.6745134592056274), ('散步', 0.6541033387184143), ('拜拜', 0.6424460411071777), ('拍照', 0.6344565153121948), ('過年', 0.6279251575469971)]\n",
      "[('妳', 0.8045134544372559), ('他', 0.6913619041442871), ('她', 0.670194685459137), ('你媽', 0.6420184373855591), ('妳們', 0.6335437297821045), ('你們', 0.626899003982544), ('我媽', 0.6140059232711792), ('我', 0.609978437423706), ('她們', 0.5984077453613281), ('佳燕', 0.5932466387748718)]\n",
      "[('我媽', 0.7398058176040649), ('他', 0.6934726238250732), ('她', 0.6909140348434448), ('我哥', 0.6569229364395142), ('你媽', 0.6260999441146851), ('你', 0.609978437423706), ('別人', 0.6097102165222168), ('媽媽', 0.6051008701324463), ('我們', 0.5900276899337769), ('琪琪', 0.5842738151550293)]\n",
      "0.137912993743\n",
      "0.707786836063\n"
     ]
    },
    {
     "name": "stderr",
     "output_type": "stream",
     "text": [
      "/Library/Frameworks/Python.framework/Versions/3.5/lib/python3.5/site-packages/ipykernel_launcher.py:2: DeprecationWarning: Call to deprecated `most_similar` (Method will be removed in 4.0.0, use self.wv.most_similar() instead).\n",
      "  \n",
      "/Library/Frameworks/Python.framework/Versions/3.5/lib/python3.5/site-packages/ipykernel_launcher.py:3: DeprecationWarning: Call to deprecated `most_similar` (Method will be removed in 4.0.0, use self.wv.most_similar() instead).\n",
      "  This is separate from the ipykernel package so we can avoid doing imports until\n",
      "/Library/Frameworks/Python.framework/Versions/3.5/lib/python3.5/site-packages/ipykernel_launcher.py:4: DeprecationWarning: Call to deprecated `most_similar` (Method will be removed in 4.0.0, use self.wv.most_similar() instead).\n",
      "  after removing the cwd from sys.path.\n",
      "/Library/Frameworks/Python.framework/Versions/3.5/lib/python3.5/site-packages/ipykernel_launcher.py:5: DeprecationWarning: Call to deprecated `similarity` (Method will be removed in 4.0.0, use self.wv.similarity() instead).\n",
      "  \"\"\"\n",
      "/Library/Frameworks/Python.framework/Versions/3.5/lib/python3.5/site-packages/ipykernel_launcher.py:6: DeprecationWarning: Call to deprecated `similarity` (Method will be removed in 4.0.0, use self.wv.similarity() instead).\n",
      "  \n"
     ]
    }
   ],
   "source": [
    "model = word2vec.Word2Vec.load('./model')\n",
    "print(model.most_similar('吃飯'))\n",
    "print(model.most_similar('你'))\n",
    "print(model.most_similar('我'))\n",
    "print(model.similarity('吃飯', '你'))\n",
    "print(model.similarity('吃飯', '聊天'))"
   ]
  },
  {
   "cell_type": "code",
   "execution_count": null,
   "metadata": {},
   "outputs": [
    {
     "name": "stderr",
     "output_type": "stream",
     "text": [
      "/Library/Frameworks/Python.framework/Versions/3.5/lib/python3.5/site-packages/ipykernel_launcher.py:2: DeprecationWarning: Call to deprecated `__getitem__` (Method will be removed in 4.0.0, use self.wv.__getitem__() instead).\n",
      "  \n"
     ]
    }
   ],
   "source": [
    "vocab = list(model.wv.vocab)\n",
    "X = model[vocab]\n",
    "tsne = TSNE(n_components=2)\n",
    "X_tsne = tsne.fit_transform(X)"
   ]
  },
  {
   "cell_type": "code",
   "execution_count": null,
   "metadata": {},
   "outputs": [],
   "source": [
    "texts = ['聊天', '吃飯', '你', '我']\n",
    "indexes = []\n",
    "for text in texts:\n",
    "    indexes.append(vocab.index(text))\n",
    "Xs = []\n",
    "Ys = []\n",
    "for index in indexes:\n",
    "    x, y = X_tsne[index]\n",
    "    Xs.append(x)\n",
    "    Ys.append(y)"
   ]
  },
  {
   "cell_type": "code",
   "execution_count": null,
   "metadata": {},
   "outputs": [],
   "source": [
    "import matplotlib  \n",
    "matplotlib.matplotlib_fname()\n",
    "plt.rcParams['font.sans-serif'] = ['SimHei']\n",
    "plt.rcParams['axes.unicode_minus'] = False\n",
    "plt.figure(figsize=(800, 600))\n",
    "plt.plot(Xs, Ys, 'o')\n",
    "texts = [plt.text(X, Y, Text) for X, Y, Text in zip(Xs, Ys, texts)]\n",
    "plt.title(str(adjust_text(texts, Xs, Ys, arrowprops=dict(arrowstyle='->', color='r'))))\n",
    "plt.show()"
   ]
  },
  {
   "cell_type": "code",
   "execution_count": 12,
   "metadata": {},
   "outputs": [],
   "source": [
    "def plot(Xs, Ys, Texts):\n",
    "    plt.plot(Xs, Ys, 'o')\n",
    "    texts = [plt.text(X, Y, Text) for X, Y, Text in zip(Xs, Ys, Texts)]\n",
    "    plt.title(str(adjust_text(texts, Xs, Ys, arrowprops=dict(arrowstyle='->', color='r'))))"
   ]
  },
  {
   "cell_type": "code",
   "execution_count": null,
   "metadata": {},
   "outputs": [],
   "source": [
    "texts = ['聊天', '吃飯', '你', '我']\n",
    "indexes = []\n",
    "for text in texts:\n",
    "    indexes.append(vocab.index(text))\n",
    "Xs = []\n",
    "Ys = []\n",
    "for index in indexes:\n",
    "    x, y = X_tsne[index]\n",
    "    Xs.append(x)\n",
    "    Ys.append(y)\n",
    "plot(Xs, Ys, texts)"
   ]
  },
  {
   "cell_type": "code",
   "execution_count": null,
   "metadata": {},
   "outputs": [],
   "source": []
  }
 ],
 "metadata": {
  "kernelspec": {
   "display_name": "Python 3",
   "language": "python",
   "name": "python3"
  },
  "language_info": {
   "codemirror_mode": {
    "name": "ipython",
    "version": 3
   },
   "file_extension": ".py",
   "mimetype": "text/x-python",
   "name": "python",
   "nbconvert_exporter": "python",
   "pygments_lexer": "ipython3",
   "version": "3.5.2"
  }
 },
 "nbformat": 4,
 "nbformat_minor": 2
}
