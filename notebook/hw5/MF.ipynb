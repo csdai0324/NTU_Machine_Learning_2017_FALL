{
 "cells": [
  {
   "cell_type": "code",
   "execution_count": 113,
   "metadata": {},
   "outputs": [],
   "source": [
    "import os\n",
    "import json\n",
    "import numpy as np\n",
    "from keras.layers import Embedding, Reshape, Merge, Dropout, Dense\n",
    "from keras.models import Sequential, load_model\n",
    "from keras.models import model_from_json\n",
    "from keras.regularizers import l2"
   ]
  },
  {
   "cell_type": "code",
   "execution_count": 2,
   "metadata": {},
   "outputs": [],
   "source": [
    "train_data_path = '/home/csdai0324/hw5_data/train.csv'\n",
    "test_data_path = '/home/csdai0324/hw5_data/test.csv'\n",
    "answer_path = '/home/csdai0324/hw5_data/answer.txt'"
   ]
  },
  {
   "cell_type": "code",
   "execution_count": 3,
   "metadata": {},
   "outputs": [],
   "source": [
    "def read_train_data(train_data_path):\n",
    "    with open(train_data_path, 'r') as train_data:\n",
    "        train_data.readline()\n",
    "        users = []\n",
    "        movies = []\n",
    "        ratings = []\n",
    "        for data in train_data:\n",
    "            lt = data.strip().split(',')\n",
    "            users.append(int(lt[1]))\n",
    "            movies.append(int(lt[2]))\n",
    "            ratings.append(int(lt[3]))\n",
    "    return users, movies, ratings\n",
    "\n",
    "def read_test_data(test_data_path):\n",
    "    with open(test_data_path, 'r') as test_data:\n",
    "        test_data.readline()\n",
    "        users = []\n",
    "        movies = []\n",
    "        for data in test_data:\n",
    "            lt = data.strip().split(',')\n",
    "            users.append(int(lt[1]))\n",
    "            movies.append(int(lt[2]))\n",
    "    return users, movies\n",
    "\n",
    "users, movies, ratings = read_train_data(train_data_path)"
   ]
  },
  {
   "cell_type": "code",
   "execution_count": 4,
   "metadata": {},
   "outputs": [],
   "source": [
    "def rmse(y_true, y_pred):\n",
    "        return K.sqrt(K.mean(K.square(y_pred - y_true), axis=-1)) "
   ]
  },
  {
   "cell_type": "code",
   "execution_count": 5,
   "metadata": {},
   "outputs": [
    {
     "name": "stdout",
     "output_type": "stream",
     "text": [
      "6040 3952\n"
     ]
    }
   ],
   "source": [
    "print(max(users), max(movies))"
   ]
  },
  {
   "cell_type": "code",
   "execution_count": 91,
   "metadata": {},
   "outputs": [],
   "source": [
    "def mf_model(user_num, movie_num, factors):\n",
    "    u = Sequential()\n",
    "    u.add(Embedding(user_num + 1, factors, input_length=1, W_regularizer=l2(1e-6)))\n",
    "    u.add(Reshape((factors,)))\n",
    "    m = Sequential()\n",
    "    m.add(Embedding(movie_num + 1, factors, input_length=1, W_regularizer=l2(1e-6)))\n",
    "    m.add(Reshape((factors,)))\n",
    "    model = Sequential()\n",
    "    model.add(Merge([u, m], mode='dot'))\n",
    "    model.compile(loss='mse', optimizer='adamax')\n",
    "    return model"
   ]
  },
  {
   "cell_type": "code",
   "execution_count": 92,
   "metadata": {},
   "outputs": [
    {
     "name": "stderr",
     "output_type": "stream",
     "text": [
      "/usr/local/lib/python3.5/dist-packages/ipykernel_launcher.py:3: UserWarning: Update your `Embedding` call to the Keras 2 API: `Embedding(6041, 256, embeddings_regularizer=<keras.reg..., input_length=1)`\n",
      "  This is separate from the ipykernel package so we can avoid doing imports until\n",
      "/usr/local/lib/python3.5/dist-packages/ipykernel_launcher.py:6: UserWarning: Update your `Embedding` call to the Keras 2 API: `Embedding(3953, 256, embeddings_regularizer=<keras.reg..., input_length=1)`\n",
      "  \n",
      "/usr/local/lib/python3.5/dist-packages/ipykernel_launcher.py:9: UserWarning: The `Merge` layer is deprecated and will be removed after 08/2017. Use instead layers from `keras.layers.merge`, e.g. `add`, `concatenate`, etc.\n",
      "  if __name__ == '__main__':\n",
      "/usr/local/lib/python3.5/dist-packages/keras/models.py:848: UserWarning: The `nb_epoch` argument in `fit` has been renamed `epochs`.\n",
      "  warnings.warn('The `nb_epoch` argument in `fit` '\n"
     ]
    },
    {
     "name": "stdout",
     "output_type": "stream",
     "text": [
      "Epoch 1/1\n",
      "899873/899873 [==============================] - 4s - loss: 8.7677     \n"
     ]
    },
    {
     "data": {
      "text/plain": [
       "<keras.callbacks.History at 0x7f67a7809be0>"
      ]
     },
     "execution_count": 92,
     "metadata": {},
     "output_type": "execute_result"
    }
   ],
   "source": [
    "model = mf_model(max(users), max(movies), 256)\n",
    "model.fit([np.array(users), np.array(movies)], ratings, batch_size=512, nb_epoch=1, verbose=1)"
   ]
  },
  {
   "cell_type": "code",
   "execution_count": 93,
   "metadata": {},
   "outputs": [
    {
     "name": "stdout",
     "output_type": "stream",
     "text": [
      "Epoch 1/5\n",
      " 16896/899873 [..............................] - ETA: 8s - loss: 2.2642"
     ]
    },
    {
     "name": "stderr",
     "output_type": "stream",
     "text": [
      "/usr/local/lib/python3.5/dist-packages/keras/models.py:848: UserWarning: The `nb_epoch` argument in `fit` has been renamed `epochs`.\n",
      "  warnings.warn('The `nb_epoch` argument in `fit` '\n"
     ]
    },
    {
     "name": "stdout",
     "output_type": "stream",
     "text": [
      "899873/899873 [==============================] - 8s - loss: 1.4258     \n",
      "Epoch 2/5\n",
      "899873/899873 [==============================] - 8s - loss: 0.9577     \n",
      "Epoch 3/5\n",
      "899873/899873 [==============================] - 8s - loss: 0.8650     \n",
      "Epoch 4/5\n",
      "899873/899873 [==============================] - 8s - loss: 0.8197     \n",
      "Epoch 5/5\n",
      "899873/899873 [==============================] - 8s - loss: 0.7853     \n"
     ]
    },
    {
     "data": {
      "text/plain": [
       "<keras.callbacks.History at 0x7f67a7d61eb8>"
      ]
     },
     "execution_count": 93,
     "metadata": {},
     "output_type": "execute_result"
    }
   ],
   "source": [
    "model.fit([np.array(users), np.array(movies)], ratings, batch_size=256, nb_epoch=5, verbose=1)"
   ]
  },
  {
   "cell_type": "code",
   "execution_count": 109,
   "metadata": {},
   "outputs": [
    {
     "name": "stdout",
     "output_type": "stream",
     "text": [
      "Epoch 1/1\n",
      " 11008/899873 [..............................] - ETA: 10s - loss: 0.5264"
     ]
    },
    {
     "name": "stderr",
     "output_type": "stream",
     "text": [
      "/usr/local/lib/python3.5/dist-packages/keras/models.py:848: UserWarning: The `nb_epoch` argument in `fit` has been renamed `epochs`.\n",
      "  warnings.warn('The `nb_epoch` argument in `fit` '\n"
     ]
    },
    {
     "name": "stdout",
     "output_type": "stream",
     "text": [
      "899873/899873 [==============================] - 8s - loss: 0.5177     \n"
     ]
    },
    {
     "data": {
      "text/plain": [
       "<keras.callbacks.History at 0x7f67aaf5e4e0>"
      ]
     },
     "execution_count": 109,
     "metadata": {},
     "output_type": "execute_result"
    }
   ],
   "source": [
    "model.fit([np.array(users), np.array(movies)], ratings, batch_size=256, nb_epoch=1, verbose=1)"
   ]
  },
  {
   "cell_type": "code",
   "execution_count": 96,
   "metadata": {},
   "outputs": [],
   "source": [
    "test_users, test_movies = read_test_data(test_data_path)"
   ]
  },
  {
   "cell_type": "code",
   "execution_count": 110,
   "metadata": {},
   "outputs": [],
   "source": [
    "def predict_rating(userid, movieid):\n",
    "    return model.predict([np.array([userid]), np.array([movieid])])[0][0]\n",
    "\n",
    "def predict(answer_path, model, test_data_path):\n",
    "    if os.path.isfile(answer_path):\n",
    "        os.remove(answer_path)\n",
    "    test_users, test_movies = read_test_data(test_data_path)\n",
    "    pred = []\n",
    "    for i in range(len(test_users)):\n",
    "        pred.append(predict_rating(test_users[i], test_movies[i]))\n",
    "    with open(answer_path, 'a') as answer:\n",
    "        answer.write('TestDataID,Rating\\r\\n')\n",
    "        index = 1\n",
    "        for ele in pred:\n",
    "            answer.write(str(index) +','+ str(ele) +'\\r\\n')\n",
    "            index += 1\n",
    "    return pred\n",
    "    \n",
    "pred = predict(answer_path, model, test_data_path)\n",
    "\n",
    "with open(answer_path, 'a') as answer:\n",
    "    answer.write('TestDataID,Rating\\r\\n')\n",
    "    index = 1\n",
    "    for ele in pred:\n",
    "        answer.write(str(index) +','+ str(ele) +'\\r\\n')\n",
    "        index += 1"
   ]
  },
  {
   "cell_type": "code",
   "execution_count": 117,
   "metadata": {},
   "outputs": [],
   "source": [
    "def save_model(model):\n",
    "    json_string = model.to_json()\n",
    "    with open('/home/csdai0324/hw5_data/model_json.txt', 'w') as outfile:  \n",
    "        json.dump(json_string, outfile)\n",
    "    model.save_weights('/home/csdai0324/hw5_data/model.h5')\n",
    "\n",
    "save_model(model)"
   ]
  },
  {
   "cell_type": "code",
   "execution_count": 120,
   "metadata": {},
   "outputs": [
    {
     "name": "stderr",
     "output_type": "stream",
     "text": [
      "/usr/local/lib/python3.5/dist-packages/keras/engine/topology.py:1252: UserWarning: The `Merge` layer is deprecated and will be removed after 08/2017. Use instead layers from `keras.layers.merge`, e.g. `add`, `concatenate`, etc.\n",
      "  return cls(**config)\n"
     ]
    }
   ],
   "source": [
    "model_json_path = '/home/csdai0324/hw5_data/model_json.txt'\n",
    "model_weigth_path = '/home/csdai0324/hw5_data/model.h5'\n",
    "def load_model(model_json_path, model_weight_path):\n",
    "    with open(model_json_path) as json_file:  \n",
    "        model_json = json.load(json_file)\n",
    "    model_ = model_from_json(model_json)\n",
    "    model_.load_weights(model_weight_path)\n",
    "    return model_\n",
    "model1 = load_model(model_json_path, model_weigth_path)\n",
    "pred = predict(answer_path, model1, test_data_path)"
   ]
  }
 ],
 "metadata": {
  "kernelspec": {
   "display_name": "Python 3",
   "language": "python",
   "name": "python3"
  },
  "language_info": {
   "codemirror_mode": {
    "name": "ipython",
    "version": 3
   },
   "file_extension": ".py",
   "mimetype": "text/x-python",
   "name": "python",
   "nbconvert_exporter": "python",
   "pygments_lexer": "ipython3",
   "version": "3.5.2"
  }
 },
 "nbformat": 4,
 "nbformat_minor": 2
}
