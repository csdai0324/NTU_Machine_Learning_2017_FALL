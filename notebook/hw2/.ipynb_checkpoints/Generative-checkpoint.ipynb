{
 "cells": [
  {
   "cell_type": "code",
   "execution_count": null,
   "metadata": {
    "collapsed": true,
    "deletable": true,
    "editable": true
   },
   "outputs": [],
   "source": [
    "import sys\n",
    "import os\n",
    "import math\n",
    "\n",
    "import numpy as np"
   ]
  },
  {
   "cell_type": "code",
   "execution_count": null,
   "metadata": {
    "collapsed": true,
    "deletable": true,
    "editable": true
   },
   "outputs": [],
   "source": [
    "train_data_path = ['./X_train', './Y_train']\n",
    "test_data_path ='./X_test'\n",
    "answer_path ='./prediction.csv'"
   ]
  },
  {
   "cell_type": "code",
   "execution_count": null,
   "metadata": {
    "collapsed": false,
    "deletable": true,
    "editable": true
   },
   "outputs": [],
   "source": [
    "def read_train_data(train_data_path):\n",
    "    x_1 = []\n",
    "    x_2 = []\n",
    "    y = []\n",
    "    with open(train_data_path[0], 'r') as X_train, \\\n",
    "         open(train_data_path[1], 'r') as Y_train:\n",
    "            X_train.readline()\n",
    "            Y_train.readline()\n",
    "            for x_, y_ in zip(X_train, Y_train):\n",
    "                if int(y_) == 1:\n",
    "                    x_1.append(list(map(int, x_.strip().split(','))))\n",
    "                else:\n",
    "                    x_2.append(list(map(int, x_.strip().split(','))))\n",
    "                y.append(int(y_))\n",
    "    return x_1, x_2, y\n",
    "\n",
    "def read_test_data(test_data_path):\n",
    "    x_test = []\n",
    "    with open(test_data_path, 'r') as X_test:\n",
    "        X_test.readline()\n",
    "        for x_ in X_test:\n",
    "            x_test.append(list(map(int, x_.strip().split(','))))\n",
    "    return x_test\n",
    "\n",
    "def feature_normalization(x_1, x_2):\n",
    "    x = x_1 + x_2\n",
    "    feature_mean = np.mean(x, axis=0)\n",
    "    feature_std = np.std(x, axis=0)\n",
    "    for i in range(len(x_1)):\n",
    "        x_1[i] = (x_1[i] - feature_mean) / feature_std\n",
    "    for i in range(len(x_2)):\n",
    "        x_2[i] = (x_2[i] - feature_mean) / feature_std\n",
    "    return x_1, x_2, feature_mean, feature_std\n",
    "\n",
    "def test_feature_normalization(x, feature_mean, feature_std):\n",
    "    for i in range(len(x)):\n",
    "        x[i] = (x[i] - feature_mean) / feature_std\n",
    "    return x\n",
    "\n",
    "def sigmoid(z):\n",
    "    res = 1 / (1. + np.exp(-z))\n",
    "    return np.clip(res, 0.000000001, 0.999999999)\n",
    "\n",
    "def predict(X_test, mu1, mu2, shared_sigma, N1, N2):\n",
    "    sigma_inverse = np.linalg.inv(shared_sigma)\n",
    "    w = np.dot((mu1 - mu2), sigma_inverse)\n",
    "    x = np.matrix(X_test).T\n",
    "    b = (-0.5 * np.dot(np.dot([mu1], sigma_inverse), mu1)) + (-.5 * np.dot(np.dot([mu2], sigma_inverse), mu2)) + np.log(float(N1)/N2)\n",
    "    a = np.dot(w, x) + b\n",
    "    y = sigmoid(a)\n",
    "    return y\n",
    "\n",
    "def write_answer(answer):\n",
    "    if os.path.exists(answer_path):\n",
    "        os.remove(answer_path)\n",
    "    with open(answer_path, 'a') as ans:\n",
    "        ans.write('id,label\\r\\n')\n",
    "        id = 1\n",
    "        for y in answer:\n",
    "            if y >= 0.5:\n",
    "                str ='%d,%d\\r\\n' % (id, 1)\n",
    "                ans.write(str)\n",
    "            elif y < 0.5:\n",
    "                str ='%d,%d\\r\\n' % (id, 0)\n",
    "                ans.write(str)\n",
    "            id += 1"
   ]
  },
  {
   "cell_type": "code",
   "execution_count": null,
   "metadata": {
    "collapsed": false,
    "deletable": true,
    "editable": true
   },
   "outputs": [],
   "source": [
    "x1, x2, y = read_train_data(train_data_path)\n",
    "x1, x2, feature_mean, feature_std = feature_normalization(x1, x2)\n",
    "x = x1 + x2\n",
    "mu1 = np.mean(x1, axis=0)\n",
    "mu2 = np.mean(x2, axis=0)\n",
    "sigma1 = np.zeros((106, 106))\n",
    "sigma2 = np.zeros((106, 106))\n",
    "for i in range(len(x)):\n",
    "    if y[i] == 1:\n",
    "        sigma1 += np.dot(np.transpose([x[i] - mu1]), [(x[i] - mu1)])\n",
    "    else:\n",
    "        sigma2 += np.dot(np.transpose([x[i] - mu2]), [(x[i] - mu2)])\n",
    "sigma1 /= len(x1)\n",
    "sigma2 /= len(x2)\n",
    "shared_sigma = (float(len(x1)) / len(x)) * sigma1 \\\n",
    "                + (float(len(x2))/ len(x)) * sigma2\n",
    "x_test = read_test_data(test_data_path)\n",
    "x_test = test_feature_normalization(x_test, feature_mean, feature_std)\n",
    "ans = predict(x_test, mu1, mu2, shared_sigma, len(x1), len(x2))\n",
    "write_answer(ans.A1)"
   ]
  },
  {
   "cell_type": "code",
   "execution_count": null,
   "metadata": {
    "collapsed": true
   },
   "outputs": [],
   "source": []
  }
 ],
 "metadata": {
  "kernelspec": {
   "display_name": "Python 3",
   "language": "python",
   "name": "python3"
  },
  "language_info": {
   "codemirror_mode": {
    "name": "ipython",
    "version": 3
   },
   "file_extension": ".py",
   "mimetype": "text/x-python",
   "name": "python",
   "nbconvert_exporter": "python",
   "pygments_lexer": "ipython3",
   "version": "3.5.2"
  }
 },
 "nbformat": 4,
 "nbformat_minor": 2
}
