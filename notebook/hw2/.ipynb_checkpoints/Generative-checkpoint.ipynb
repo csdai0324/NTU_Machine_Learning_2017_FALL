{
 "cells": [
  {
   "cell_type": "code",
   "execution_count": 123,
   "metadata": {
    "collapsed": true,
    "deletable": true,
    "editable": true
   },
   "outputs": [],
   "source": [
    "import sys\n",
    "import os\n",
    "import math\n",
    "\n",
    "import numpy as np"
   ]
  },
  {
   "cell_type": "code",
   "execution_count": 14,
   "metadata": {
    "collapsed": true,
    "deletable": true,
    "editable": true
   },
   "outputs": [],
   "source": [
    "train_data_path = ['./X_train', './Y_train']\n",
    "test_data_path ='./X_test'\n",
    "answer_path ='./answer.csv'"
   ]
  },
  {
   "cell_type": "code",
   "execution_count": 210,
   "metadata": {
    "collapsed": false,
    "deletable": true,
    "editable": true
   },
   "outputs": [],
   "source": [
    "def read_train_data(train_data_path):\n",
    "    x_1 = []\n",
    "    x_2 = []\n",
    "    with open(train_data_path[0], 'r') as X_train, \\\n",
    "         open(train_data_path[1], 'r') as Y_train:\n",
    "            X_train.readline()\n",
    "            Y_train.readline()\n",
    "            for x_, y_ in zip(X_train, Y_train):\n",
    "                if int(y_) == 1:\n",
    "                    x_1.append(list(map(int, x_.strip().split(','))))\n",
    "                else:\n",
    "                    x_2.append(list(map(int, x_.strip().split(','))))\n",
    "                y.append(int(y_))\n",
    "    return x_1, x_2, y\n",
    "\n",
    "def read_test_data(test_data_path):\n",
    "    x_test = []\n",
    "    with open(test_data_path, 'r') as X_test:\n",
    "        X_test.readline()\n",
    "        for x_ in X_test:\n",
    "            x_test.append(list(map(int, x_.strip().split(','))))\n",
    "    return x_test\n",
    "\n",
    "def feature_normalization(x_1, x_2):\n",
    "    x = x_1 + x_2\n",
    "    feature_mean = np.mean(x, axis=0)\n",
    "    feature_std = np.std(x, axis=0)\n",
    "    for i in range(len(x_1)):\n",
    "        x_1[i] = (x_1[i] - feature_mean) / feature_std\n",
    "    for i in range(len(x_2)):\n",
    "        x_2[i] = (x_2[i] - feature_mean) / feature_std\n",
    "    return x_1, x_2, feature_mean, feature_std\n",
    "\n",
    "def test_feature_normalization(x, feature_mean, feature_std):\n",
    "    for i in range(len(x)):\n",
    "        x[i] = (x[i] - feature_mean) / feature_std\n",
    "    return x\n",
    "\n",
    "def get_P(x_1, x_2):\n",
    "    return len(x_1) / len(x_1+x_2), len(x_2) / len(x_1+x_2)\n"
   ]
  },
  {
   "cell_type": "code",
   "execution_count": null,
   "metadata": {
    "collapsed": true
   },
   "outputs": [],
   "source": []
  }
 ],
 "metadata": {
  "kernelspec": {
   "display_name": "Python 3",
   "language": "python",
   "name": "python3"
  },
  "language_info": {
   "codemirror_mode": {
    "name": "ipython",
    "version": 3
   },
   "file_extension": ".py",
   "mimetype": "text/x-python",
   "name": "python",
   "nbconvert_exporter": "python",
   "pygments_lexer": "ipython3",
   "version": "3.5.2"
  }
 },
 "nbformat": 4,
 "nbformat_minor": 2
}
