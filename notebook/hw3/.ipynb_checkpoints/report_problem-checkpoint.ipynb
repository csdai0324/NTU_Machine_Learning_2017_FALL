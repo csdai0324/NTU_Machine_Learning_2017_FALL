{
 "cells": [
  {
   "cell_type": "code",
   "execution_count": 20,
   "metadata": {},
   "outputs": [],
   "source": [
    "import csv\n",
    "import sys\n",
    "import os\n",
    "import numpy as np\n",
    "import keras\n",
    "import itertools\n",
    "import numpy as np\n",
    "import matplotlib.pyplot as plt\n",
    "\n",
    "from sklearn.metrics import confusion_matrix"
   ]
  },
  {
   "cell_type": "code",
   "execution_count": 27,
   "metadata": {},
   "outputs": [],
   "source": [
    "model_path = './two.h5'\n",
    "val_data_path = './val.csv'\n",
    "num_classes = 7\n",
    "img_rows, img_cols = 48, 48\n",
    "class_names = ['Angry', 'Disgust', 'Fear', 'Happy', 'Sad', 'Suprise', 'Neutral']"
   ]
  },
  {
   "cell_type": "code",
   "execution_count": 73,
   "metadata": {},
   "outputs": [],
   "source": [
    "def read_val_data(val_data_path):\n",
    "    x = []\n",
    "    y = []\n",
    "    with open(val_data_path, 'r') as val_data:\n",
    "        val_data.readline()\n",
    "        for line in val_data:\n",
    "            label, pixels, tag = line.strip().split(',')\n",
    "            if tag =='PrivateTest' or tag =='PublicTest':\n",
    "                pixels = list(map(int, pixels.split(' ')))\n",
    "                x.append(pixels)\n",
    "                y.append(int(label))\n",
    "    return x, y\n",
    "\n",
    "def get_cm(model_path):\n",
    "    model = keras.models.load_model(model_path)\n",
    "    x_val, y_val = read_val_data(val_data_path)\n",
    "    x_val = np.array(x_val).reshape(np.array(x_val).shape[0], img_rows, img_cols, 1)\n",
    "    x_val = x_val.astype('float32')\n",
    "    x_val /= 255\n",
    "    pred = model.predict(x_val[:int(len(x_val)*0.5)])\n",
    "    pred_ans = []\n",
    "    for vec in pred:\n",
    "        pred_ans.append(list(vec).index(max(vec)))\n",
    "    return confusion_matrix(y_val[:int(len(x_val)*0.5)], pred_ans)\n",
    "\n",
    "def plot_confusion_matrix(cm, classes,\n",
    "                          normalize=False,\n",
    "                          title='Confusion matrix',\n",
    "                          cmap=plt.cm.Blues):\n",
    "    if normalize:\n",
    "        cm = cm.astype('float') / cm.sum(axis=1)[:, np.newaxis]\n",
    "    plt.imshow(cm, interpolation='nearest', cmap=cmap)\n",
    "    plt.title(title)\n",
    "    plt.colorbar()\n",
    "    tick_marks = np.arange(len(classes))\n",
    "    plt.xticks(tick_marks, classes, rotation=45)\n",
    "    plt.yticks(tick_marks, classes)\n",
    "\n",
    "    fmt = '.2f' if normalize else 'd'\n",
    "    thresh = cm.max() / 2.\n",
    "    for i, j in itertools.product(range(cm.shape[0]), range(cm.shape[1])):\n",
    "        plt.text(j, i, format(cm[i, j], fmt),\n",
    "                 horizontalalignment=\"center\",\n",
    "                 color=\"white\" if cm[i, j] > thresh else \"black\")\n",
    "\n",
    "    plt.tight_layout()\n",
    "    plt.ylabel('True label')\n",
    "    plt.xlabel('Predicted label')"
   ]
  },
  {
   "cell_type": "code",
   "execution_count": 41,
   "metadata": {},
   "outputs": [],
   "source": [
    "cm = get_cm(model_path)\n",
    "fig = plt.figure(3, dpi=200)\n",
    "plot_confusion_matrix(cm, class_names, normalize=True, cmap=plt.cm.BuGn)\n",
    "plt.show()\n",
    "fig.savefig('cm.png', dpi=200)"
   ]
  },
  {
   "cell_type": "code",
   "execution_count": null,
   "metadata": {},
   "outputs": [],
   "source": []
  }
 ],
 "metadata": {
  "kernelspec": {
   "display_name": "Python 3",
   "language": "python",
   "name": "python3"
  },
  "language_info": {
   "codemirror_mode": {
    "name": "ipython",
    "version": 3
   },
   "file_extension": ".py",
   "mimetype": "text/x-python",
   "name": "python",
   "nbconvert_exporter": "python",
   "pygments_lexer": "ipython3",
   "version": "3.6.2"
  }
 },
 "nbformat": 4,
 "nbformat_minor": 2
}
