{
 "cells": [
  {
   "cell_type": "code",
   "execution_count": 1,
   "metadata": {},
   "outputs": [
    {
     "name": "stderr",
     "output_type": "stream",
     "text": [
      "Using TensorFlow backend.\n"
     ]
    }
   ],
   "source": [
    "from keras.models import load_model"
   ]
  },
  {
   "cell_type": "code",
   "execution_count": 2,
   "metadata": {},
   "outputs": [],
   "source": [
    "test_data_path = '/home/csdai/hw4_data/test.txt'\n",
    "dict_path = '/home/csdai/hw4_data/dict.txt'"
   ]
  },
  {
   "cell_type": "code",
   "execution_count": null,
   "metadata": {},
   "outputs": [],
   "source": [
    "def read_dict(dict_path):\n",
    "    d = []\n",
    "    with open(dict_path, 'r') as dict_txt:\n",
    "        for line in dict_txt:\n",
    "            d.append(line.strip())\n",
    "    return d\n",
    "\n",
    "def indexing_testing_data(testing_data_path, dict_path):\n",
    "    d = read_dict(dict_path)\n",
    "    with open(testing_data_path, 'r') as test_data:\n",
    "        all_index_text = []\n",
    "        test_data.readline()\n",
    "        counter = 0\n",
    "        for line in test_data:\n",
    "            counter += 1\n",
    "            if (counter % 20000) == 0:\n",
    "                print(counter)\n",
    "            first_comma = line.index(',')\n",
    "            index = line.strip()[:first_comma]\n",
    "            text = line.strip()[first_comma+1:]\n",
    "            index_text = ''\n",
    "            words = text.split(' ')\n",
    "            for word in words:\n",
    "                if word in d:\n",
    "                    index_text += str(d.index(word) + 1) +' '\n",
    "                else:\n",
    "                    index_text += str(1) +' ' \n",
    "            all_index_text.append(index_text.strip())\n",
    "        if os.path.isfile(testing_data_index_path):\n",
    "            os.remove(testing_data_index_path)\n",
    "        with open(testing_data_index_path, 'a') as index_data:\n",
    "            index = 0\n",
    "            for index_text in all_index_text:\n",
    "                index_data.write(str(index) +','+ index_text +'\\r\\n')\n",
    "                index += 1\n",
    "    return None"
   ]
  }
 ],
 "metadata": {
  "kernelspec": {
   "display_name": "Python 3",
   "language": "python",
   "name": "python3"
  },
  "language_info": {
   "codemirror_mode": {
    "name": "ipython",
    "version": 3
   },
   "file_extension": ".py",
   "mimetype": "text/x-python",
   "name": "python",
   "nbconvert_exporter": "python",
   "pygments_lexer": "ipython3",
   "version": "3.6.2"
  }
 },
 "nbformat": 4,
 "nbformat_minor": 2
}
