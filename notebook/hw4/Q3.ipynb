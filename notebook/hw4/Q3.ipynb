{
 "cells": [
  {
   "cell_type": "code",
   "execution_count": 11,
   "metadata": {},
   "outputs": [],
   "source": [
    "from keras.models import load_model\n",
    "from keras.preprocessing import sequence"
   ]
  },
  {
   "cell_type": "code",
   "execution_count": 16,
   "metadata": {},
   "outputs": [],
   "source": [
    "testing_data_path = '/home/csdai/hw4_data/testing_data.txt'\n",
    "testing_data_index_path = '/home/csdai/hw4_data/testing_data_index.txt'\n",
    "dict_path = '/home/csdai/hw4_data/dict.txt'\n",
    "model_path = '/home/csdai/hw4_data/model/'\n",
    "answer_path = '/home/csdai/hw4_data/answer.txt'\n",
    "max_review_length = 30"
   ]
  },
  {
   "cell_type": "code",
   "execution_count": 17,
   "metadata": {},
   "outputs": [
    {
     "name": "stdout",
     "output_type": "stream",
     "text": [
      "[[ 0.41614577]\n",
      " [ 0.95836008]]\n"
     ]
    }
   ],
   "source": [
    "def read_dict(dict_path):\n",
    "    d = []\n",
    "    with open(dict_path, 'r') as dict_txt:\n",
    "        for line in dict_txt:\n",
    "            d.append(line.strip())\n",
    "    return d\n",
    "\n",
    "def indexing_testing_data(testing_data_path, testing_data_index_path, dict_path):\n",
    "    d = read_dict(dict_path)\n",
    "    with open(testing_data_path, 'r') as test_data:\n",
    "        all_index_text = []\n",
    "        test_data.readline()\n",
    "        counter = 0\n",
    "        for line in test_data:\n",
    "            counter += 1\n",
    "            if (counter % 20000) == 0:\n",
    "                print(counter)\n",
    "            first_comma = line.index(',')\n",
    "            index = line.strip()[:first_comma]\n",
    "            text = line.strip()[first_comma+1:]\n",
    "            index_text = ''\n",
    "            words = text.split(' ')\n",
    "            for word in words:\n",
    "                if word in d:\n",
    "                    index_text += str(d.index(word) + 1) +' '\n",
    "                else:\n",
    "                    index_text += str(1) +' ' \n",
    "            all_index_text.append(index_text.strip())\n",
    "        if os.path.isfile(testing_data_index_path):\n",
    "            os.remove(testing_data_index_path)\n",
    "        with open(testing_data_index_path, 'a') as index_data:\n",
    "            index = 0\n",
    "            for index_text in all_index_text:\n",
    "                index_data.write(str(index) +','+ index_text +'\\r\\n')\n",
    "                index += 1\n",
    "    return None\n",
    "\n",
    "def read_test_data(testing_data_index_path):\n",
    "    x = []\n",
    "    with open(testing_data_index_path, 'r') as test_data:\n",
    "        for line in test_data:\n",
    "            index, text = line.strip().split(',')\n",
    "            x.append(list(map(int, text.split(' '))))\n",
    "    return x\n",
    "\n",
    "def Q3_RNN(dict_path):\n",
    "    d = read_dict(dict_path)\n",
    "    model = load_model(model_path + 'model_7.h5')\n",
    "    test_str = [\"today is a good day , but it is hot\", \"today is hot , but it is a good day\"]\n",
    "    all_index_text = []\n",
    "    for text in test_str:\n",
    "        index_text = []\n",
    "        words = text.split(' ')\n",
    "        for word in words:\n",
    "            if word in d:\n",
    "                index_text.append(d.index(word) + 1)\n",
    "            else:\n",
    "                index_text.append(1) \n",
    "    \n",
    "        all_index_text.append(index_text)\n",
    "    pred = model.predict(sequence.pad_sequences(all_index_text, maxlen=max_review_length, padding='post'))\n",
    "    return pred\n",
    "    \n",
    "def write_answer(pred, answer_path):\n",
    "    if os.path.isfile(answer_path):\n",
    "        os.remove(answer_path)\n",
    "    with open(answer_path, 'a') as answer:\n",
    "        index = 0\n",
    "        answer.write('id,label\\r\\n')\n",
    "        for score in pred:\n",
    "            if score >= 0.5:\n",
    "                answer.write(str(index) +',1\\r\\n')\n",
    "            else:\n",
    "                answer.write(str(index) +',0\\r\\n')\n",
    "            index += 1 \n",
    "\n",
    "def main():\n",
    "    indexing_testing_data(testing_data_path, testing_data_index_path, dict_path)\n",
    "    read_test_data(testing_data_index_path)\n",
    "    pred = model.predict(x_test)\n",
    "    write_answer(pred, answer_path)\n",
    "    \n",
    "print(Q3_RNN(dict_path))"
   ]
  },
  {
   "cell_type": "code",
   "execution_count": null,
   "metadata": {},
   "outputs": [],
   "source": []
  }
 ],
 "metadata": {
  "kernelspec": {
   "display_name": "Python 3",
   "language": "python",
   "name": "python3"
  },
  "language_info": {
   "codemirror_mode": {
    "name": "ipython",
    "version": 3
   },
   "file_extension": ".py",
   "mimetype": "text/x-python",
   "name": "python",
   "nbconvert_exporter": "python",
   "pygments_lexer": "ipython3",
   "version": "3.6.2"
  }
 },
 "nbformat": 4,
 "nbformat_minor": 2
}
